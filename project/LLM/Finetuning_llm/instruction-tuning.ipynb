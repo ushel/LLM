{
 "cells": [
  {
   "cell_type": "markdown",
   "id": "c548ce77",
   "metadata": {},
   "source": [
    "varient of fine tuning that enabled GPT-3 to turn into ChatGpt.\n",
    "\n",
    "instruction fine tuning is type of fine tuning. fine tuning tasks - reasoning, routing, chat, agents\n",
    "\n",
    "instruction fine tuning teaches model to follow instructions.\n",
    "\n",
    "eg teaches model to behave more like a chatbot\n",
    "\n",
    "Better user interface for model interaction.\n",
    "\n",
    "It is the method that turn GPT-3 to ChatGpt\n",
    "\n",
    "Instruction following datseets :- existing data is ready as-is, online\n",
    "\n",
    "1. FAQs\n",
    "\n",
    "2. Customer support conversations\n",
    "\n",
    "3. Slack messages\n"
   ]
  },
  {
   "cell_type": "markdown",
   "id": "b64e0d85",
   "metadata": {},
   "source": [
    "LLM Data-Generation \n",
    "\n",
    "1. Non-Q&A data can also be converted to Q&A using:-\n",
    "\n",
    "    1. Prompt template\n",
    "\n",
    "    2. Using another LLM ChatGPT(Alpaca) or Open-source models\n",
    "\n"
   ]
  },
  {
   "cell_type": "markdown",
   "id": "c0761559",
   "metadata": {},
   "source": [
    "Instruction fine tuning generalization\n",
    "\n",
    "1. Can access model's pre-existing knowledge\n",
    "\n",
    "2. Generalize following instructions to other data, not in finetiuning dataset\n",
    "\n",
    "eg:-\n",
    "\n",
    "What is capital of France?   \n",
    "\n",
    "Paris -------Finetuning Data\n",
    "\n",
    "\n",
    "Can you write a function\n",
    "\n",
    "that computes the Fibonacci\n",
    "\n",
    "sequence in python?  --------- Code not in finetuning data, only base data\n",
    "\n",
    "\n",
    "def fibonacci(n):\n",
    "    \n",
    "    sequence = []\n",
    "    \n",
    "    for i in range(n):   ---------- model can now answer\n",
    "\n",
    "\n",
    "Overview of Finetuning\n",
    "\n",
    "                            Data prep ---> Training ====> Evaluation  ===> Data prep cycle continues. iterative process\n",
    "\n",
    "\n",
    "Data Prep -> Specifically for instruction finetuning and other different types of finetuning, data prep is really where you have differences.\n",
    "\n",
    "Here you change your data, tailor your data to specific type of finetuning, \n"
   ]
  },
  {
   "cell_type": "code",
   "execution_count": 17,
   "id": "e4fdb8af",
   "metadata": {},
   "outputs": [],
   "source": [
    "import os\n",
    "import itertools\n",
    "import jsonlines\n",
    "\n",
    "\n",
    "from dotenv import load_dotenv\n",
    "from datasets import load_dataset\n",
    "from pprint import pprint\n",
    "\n",
    "# from llama import BasicModelRunner\n",
    "from lamini import Lamini\n",
    "from transformers import AutoTokenizer, AutoModelForCausalLM\n",
    "from transformers import AutoModelForSeq2SeqLM, AutoTokenizer\n"
   ]
  },
  {
   "cell_type": "code",
   "execution_count": null,
   "id": "947b85bc",
   "metadata": {},
   "outputs": [
    {
     "name": "stderr",
     "output_type": "stream",
     "text": [
      "python-dotenv could not parse statement starting at line 1\n",
      "python-dotenv could not parse statement starting at line 8\n"
     ]
    },
    {
     "ename": "TypeError",
     "evalue": "unsupported operand type(s) for -: 'str' and 'str'",
     "output_type": "error",
     "traceback": [
      "\u001b[0;31m---------------------------------------------------------------------------\u001b[0m",
      "\u001b[0;31mTypeError\u001b[0m                                 Traceback (most recent call last)",
      "Cell \u001b[0;32mIn[36], line 3\u001b[0m\n\u001b[1;32m      1\u001b[0m load_dotenv()\n\u001b[0;32m----> 3\u001b[0m \u001b[43mos\u001b[49m\u001b[38;5;241;43m.\u001b[39;49m\u001b[43menviron\u001b[49m\u001b[43m[\u001b[49m\u001b[38;5;124;43m\"\u001b[39;49m\u001b[38;5;124;43mOPENAI_API_KEY\u001b[39;49m\u001b[38;5;124;43m\"\u001b[39;49m\u001b[43m]\u001b[49m\u001b[43m \u001b[49m\u001b[38;5;241;43m-\u001b[39;49m\u001b[43m \u001b[49m\u001b[43mos\u001b[49m\u001b[38;5;241;43m.\u001b[39;49m\u001b[43mgetenv\u001b[49m\u001b[43m(\u001b[49m\u001b[38;5;124;43m\"\u001b[39;49m\u001b[38;5;124;43mOPENAI_API_KEY\u001b[39;49m\u001b[38;5;124;43m\"\u001b[39;49m\u001b[43m)\u001b[49m\n",
      "\u001b[0;31mTypeError\u001b[0m: unsupported operand type(s) for -: 'str' and 'str'"
     ]
    }
   ],
   "source": [
    "load_dotenv()\n",
    "\n"
   ]
  },
  {
   "cell_type": "code",
   "execution_count": null,
   "id": "4c7e113b",
   "metadata": {},
   "outputs": [],
   "source": [
    "\n",
    "os.environ[\"OPENAI_API_KEY\"] = os.getenv(\"OPENAI_API_KEY\")"
   ]
  },
  {
   "cell_type": "code",
   "execution_count": 7,
   "id": "407fc451",
   "metadata": {},
   "outputs": [],
   "source": [
    "instruction_tuned_dataset = load_dataset(\"tatsu-lab/alpaca\", split=\"train\", streaming=True)"
   ]
  },
  {
   "cell_type": "code",
   "execution_count": 9,
   "id": "8aaf9235",
   "metadata": {},
   "outputs": [
    {
     "name": "stdout",
     "output_type": "stream",
     "text": [
      "Instruction-tuned dataset:\n"
     ]
    },
    {
     "name": "stderr",
     "output_type": "stream",
     "text": [
      "'(ReadTimeoutError(\"HTTPSConnectionPool(host='huggingface.co', port=443): Read timed out. (read timeout=10)\"), '(Request ID: 34b3a69d-1490-4175-a2d2-a1517d897f3f)')' thrown while requesting GET https://huggingface.co/datasets/tatsu-lab/alpaca/resolve/dce01c9b08f87459cf36a430d809084718273017/data/train-00000-of-00001-a09b74b3ef9c3b56.parquet\n",
      "Retrying in 1s [Retry 1/5].\n",
      "'(ReadTimeoutError(\"HTTPSConnectionPool(host='huggingface.co', port=443): Read timed out. (read timeout=10)\"), '(Request ID: d5daf2af-1e25-407e-80a4-bd20014d060a)')' thrown while requesting GET https://huggingface.co/datasets/tatsu-lab/alpaca/resolve/dce01c9b08f87459cf36a430d809084718273017/data/train-00000-of-00001-a09b74b3ef9c3b56.parquet\n",
      "Retrying in 2s [Retry 2/5].\n",
      "'(ReadTimeoutError(\"HTTPSConnectionPool(host='huggingface.co', port=443): Read timed out. (read timeout=10)\"), '(Request ID: 4bb0b0b8-10f1-4c9c-b9ef-363111576731)')' thrown while requesting GET https://huggingface.co/datasets/tatsu-lab/alpaca/resolve/dce01c9b08f87459cf36a430d809084718273017/data/train-00000-of-00001-a09b74b3ef9c3b56.parquet\n",
      "Retrying in 1s [Retry 1/5].\n",
      "HTTP Error 504 thrown while requesting GET https://huggingface.co/datasets/tatsu-lab/alpaca/resolve/dce01c9b08f87459cf36a430d809084718273017/data/train-00000-of-00001-a09b74b3ef9c3b56.parquet\n",
      "Retrying in 2s [Retry 2/5].\n"
     ]
    },
    {
     "name": "stdout",
     "output_type": "stream",
     "text": [
      "{'instruction': 'Give three tips for staying healthy.', 'input': '', 'output': '1.Eat a balanced diet and make sure to include plenty of fruits and vegetables. \\n2. Exercise regularly to keep your body active and strong. \\n3. Get enough sleep and maintain a consistent sleep schedule.', 'text': 'Below is an instruction that describes a task. Write a response that appropriately completes the request.\\n\\n### Instruction:\\nGive three tips for staying healthy.\\n\\n### Response:\\n1.Eat a balanced diet and make sure to include plenty of fruits and vegetables. \\n2. Exercise regularly to keep your body active and strong. \\n3. Get enough sleep and maintain a consistent sleep schedule.'}\n",
      "{'instruction': 'What are the three primary colors?', 'input': '', 'output': 'The three primary colors are red, blue, and yellow.', 'text': 'Below is an instruction that describes a task. Write a response that appropriately completes the request.\\n\\n### Instruction:\\nWhat are the three primary colors?\\n\\n### Response:\\nThe three primary colors are red, blue, and yellow.'}\n",
      "{'instruction': 'Describe the structure of an atom.', 'input': '', 'output': 'An atom is made up of a nucleus, which contains protons and neutrons, surrounded by electrons that travel in orbits around the nucleus. The protons and neutrons have a positive charge, while the electrons have a negative charge, resulting in an overall neutral atom. The number of each particle determines the atomic number and the type of atom.', 'text': 'Below is an instruction that describes a task. Write a response that appropriately completes the request.\\n\\n### Instruction:\\nDescribe the structure of an atom.\\n\\n### Response:\\nAn atom is made up of a nucleus, which contains protons and neutrons, surrounded by electrons that travel in orbits around the nucleus. The protons and neutrons have a positive charge, while the electrons have a negative charge, resulting in an overall neutral atom. The number of each particle determines the atomic number and the type of atom.'}\n",
      "{'instruction': 'How can we reduce air pollution?', 'input': '', 'output': 'There are a number of ways to reduce air pollution, such as shifting to renewable energy sources, encouraging the use of public transportation, prohibiting the burning of fossil fuels, implementing policies to reduce emissions from industrial sources, and implementing vehicle emissions standards. Additionally, individuals can do their part to reduce air pollution by reducing car use, avoiding burning materials such as wood, and changing to energy efficient appliances.', 'text': 'Below is an instruction that describes a task. Write a response that appropriately completes the request.\\n\\n### Instruction:\\nHow can we reduce air pollution?\\n\\n### Response:\\nThere are a number of ways to reduce air pollution, such as shifting to renewable energy sources, encouraging the use of public transportation, prohibiting the burning of fossil fuels, implementing policies to reduce emissions from industrial sources, and implementing vehicle emissions standards. Additionally, individuals can do their part to reduce air pollution by reducing car use, avoiding burning materials such as wood, and changing to energy efficient appliances.'}\n",
      "{'instruction': 'Describe a time when you had to make a difficult decision.', 'input': '', 'output': 'I had to make a difficult decision when I was working as a project manager at a construction company. I was in charge of a project that needed to be completed by a certain date in order to meet the client’s expectations. However, due to unexpected delays, we were not able to meet the deadline and so I had to make a difficult decision. I decided to extend the deadline, but I had to stretch the team’s resources even further and increase the budget. Although it was a risky decision, I ultimately decided to go ahead with it to ensure that the project was completed on time and that the client’s expectations were met. The project was eventually successfully completed and this was seen as a testament to my leadership and decision-making abilities.', 'text': 'Below is an instruction that describes a task. Write a response that appropriately completes the request.\\n\\n### Instruction:\\nDescribe a time when you had to make a difficult decision.\\n\\n### Response:\\nI had to make a difficult decision when I was working as a project manager at a construction company. I was in charge of a project that needed to be completed by a certain date in order to meet the client’s expectations. However, due to unexpected delays, we were not able to meet the deadline and so I had to make a difficult decision. I decided to extend the deadline, but I had to stretch the team’s resources even further and increase the budget. Although it was a risky decision, I ultimately decided to go ahead with it to ensure that the project was completed on time and that the client’s expectations were met. The project was eventually successfully completed and this was seen as a testament to my leadership and decision-making abilities.'}\n"
     ]
    }
   ],
   "source": [
    "m = 5\n",
    "print(\"Instruction-tuned dataset:\")\n",
    "top_m = list(itertools.islice(instruction_tuned_dataset, m))\n",
    "\n",
    "for j in top_m:\n",
    "    print((j))"
   ]
  },
  {
   "cell_type": "code",
   "execution_count": 10,
   "id": "caa05454",
   "metadata": {},
   "outputs": [],
   "source": [
    "prompt_template_with_input = \"\"\" Below is an instruction that describes the task, paired with an input that provides further context. Write a response that appropriately completes the request.\n",
    "### Instructions:\n",
    "{instruction}\n",
    "\n",
    "### Input:\n",
    "{input}\n",
    "\n",
    "### Response: \"\"\"\n",
    "\n",
    "prompt_template_without_input = \"\"\" Below is an instruction that describe a task. Write a response that appropriately completes the request.\n",
    "\n",
    "### Instruction:\n",
    "{instruction}\n",
    "\n",
    "### Response:\"\"\""
   ]
  },
  {
   "cell_type": "code",
   "execution_count": 12,
   "id": "6b7d2051",
   "metadata": {},
   "outputs": [],
   "source": [
    "processed_data = []\n",
    "\n",
    "for j in top_m:\n",
    "    if not j[\"input\"]:\n",
    "        processed_prompt = prompt_template_without_input.format(instruction = j[\"instruction\"])\n",
    "    else:\n",
    "        processed_prompt = prompt_template_with_input.format(intruction = j[\"instruction\"], input = j[\"input\"])\n",
    "        \n",
    "    processed_data.append({\"input\":processed_prompt, \"output\": j[\"output\"]})"
   ]
  },
  {
   "cell_type": "code",
   "execution_count": 13,
   "id": "e0c26aec",
   "metadata": {},
   "outputs": [
    {
     "name": "stdout",
     "output_type": "stream",
     "text": [
      "{'input': ' Below is an instruction that describe a task. Write a response '\n",
      "          'that appropriately completes the request.\\n'\n",
      "          '\\n'\n",
      "          '### Instruction:\\n'\n",
      "          'Give three tips for staying healthy.\\n'\n",
      "          '\\n'\n",
      "          '### Response:',\n",
      " 'output': '1.Eat a balanced diet and make sure to include plenty of fruits '\n",
      "           'and vegetables. \\n'\n",
      "           '2. Exercise regularly to keep your body active and strong. \\n'\n",
      "           '3. Get enough sleep and maintain a consistent sleep schedule.'}\n"
     ]
    }
   ],
   "source": [
    "pprint(processed_data[0])"
   ]
  },
  {
   "cell_type": "code",
   "execution_count": 15,
   "id": "9d5b6062",
   "metadata": {},
   "outputs": [],
   "source": [
    "with jsonlines.open(os.path.join(\"/Users/apple/Desktop/project/LLM/Finetuning_llm/Data\",\"alpaca_processed.jsonl\"),'w') as writer:\n",
    "    writer.write_all(processed_data)"
   ]
  },
  {
   "cell_type": "code",
   "execution_count": 16,
   "id": "22a030ba",
   "metadata": {},
   "outputs": [],
   "source": [
    "# uploading to hugging face\n",
    "# dataset_pat_hf = \"lamini/alpaca\"\n",
    "# dataset_hf = load_dataset(dataset_path_hf)\n",
    "# print(dataset_hf)"
   ]
  },
  {
   "cell_type": "markdown",
   "id": "64e66442",
   "metadata": {},
   "source": [
    "we are done with dataset preprocessing next step is train on different models"
   ]
  },
  {
   "cell_type": "code",
   "execution_count": 30,
   "id": "ec9213a0",
   "metadata": {},
   "outputs": [
    {
     "name": "stdout",
     "output_type": "stream",
     "text": [
      ".\n",
      "Tell me how to train my dog to sit.\n",
      "I have a 10 month old puppy and I want to train him to sit.\n",
      "I have tried the treat method and he just sits there and looks at me like I am crazy.\n",
      "I have tried the \"sit\" command and he just looks at me like I am crazy.\n",
      "I have tried the \"sit\" command and he just looks at me like I am crazy.\n",
      "I have tried the \"sit\" command and he just looks at me like I am crazy.\n",
      "I have tried the \"sit\" command and he just looks at me like I am crazy.\n",
      "I have tried the \"sit\" command and he just looks at me like I am crazy.\n",
      "I have tried the \"sit\" command and he just looks at me like I am crazy.\n",
      "I have tried the \"sit\" command and he just looks at me like I am crazy.\n",
      "I have tried the \"sit\" command and he just looks at me like I am crazy.\n",
      "I have tried the \"sit\" command and he just looks at me like I am crazy.\n",
      "I have tried the \"sit\" command and he just looks at me like I am crazy.\n",
      "I have tried the \"sit\" command and he just looks at me like I am crazy.\n",
      "I have tried the \"sit\" command and he just looks at me like I am crazy.\n",
      "I have tried the \"sit\" command and he just looks at me like I am crazy.\n",
      "I have tried the \"sit\" command and he just looks at me like I am crazy.\n",
      "I have tried the \"sit\" command and he just looks at me like I am crazy.\n",
      "I have tried the \"sit\" command and he just looks at me like I am crazy.\n",
      "I have tried the \"sit\" command and he just looks at me like I am crazy.\n",
      "I have tried the \"sit\" command and he just looks at me like I am crazy.\n",
      "I have tried the \"sit\" command and he just looks at me like I am crazy.\n",
      "I have tried the \"sit\" command and he just looks at me like I am crazy.\n",
      "I have tried the \"sit\" command and he just looks at me like I am crazy.\n",
      "I have tried the \"sit\" command and he just looks at me like I am crazy.\n",
      "I have tried the \"sit\" command and he just looks at me like I am crazy.\n",
      "I have tried the \"sit\" command and he just looks at me like I am crazy.\n",
      "I have tried the \"sit\" command and he just looks at me like I am crazy.\n",
      "I have tried the \"sit\" command and he just looks at me like I am crazy.\n",
      "I have tried the \"sit\" command and he just looks at me like I am crazy.\n",
      "I have tried the \"sit\" command and he just looks at me like I am crazy.\n",
      "I have tried the \"sit\" command and he just looks at me like I am crazy.\n",
      "I have tried the \"sit\" command and he just looks at me like I am crazy.\n",
      "I have tried the \"sit\" command and he just looks at me like I am crazy.\n",
      "I have tried the \"sit\" command and he just looks at me like I am crazy.\n",
      "I have tried the \"sit\" command and he just looks at me like I am crazy.\n",
      "I have tried the \"sit\" command and he just looks at me like I am crazy.\n",
      "I have tried the \"sit\" command and he just looks at me like I am crazy.\n",
      "I have tried the \"sit\" command and he just looks at me like I am crazy.\n",
      "I have tried the \"sit\" command and he just looks at me like I am crazy.\n",
      "I have tried the \"sit\" command and he just looks at me like I am crazy.\n",
      "I have tried the \"sit\" command and he just looks at me like I am crazy.\n",
      "I have tried the \"sit\" command and he just looks at me like I am crazy.\n",
      "I have tried the \"sit\" command and he just looks at me like I am crazy.\n",
      "I have tried the \"sit\" command and he just looks at me like I am crazy.\n",
      "I have tried the \"sit\" command and he just looks at me like I am crazy.\n",
      "I have tried the \"sit\" command and he just looks at me like I am crazy.\n",
      "I have tried the \"sit\" command and he just looks at me like I am crazy.\n",
      "I have tried the \"sit\" command and he just looks at me like I am crazy.\n",
      "I have tried the \"sit\" command and he just looks at me like I am crazy.\n",
      "I have tried the \"sit\" command and he just looks at me like I am crazy.\n",
      "I have tried the \"sit\" command and he just looks at me like I am crazy.\n",
      "I have tried the \"sit\" command and he just looks at me like I am crazy.\n",
      "I have tried the \"sit\" command and he just looks at me like I am crazy.\n",
      "I have tried the \"sit\" command and he just looks at me like I am crazy.\n",
      "I have tried the \"sit\" command and he just looks at me like I am crazy.\n",
      "I have tried the \"sit\" command and he just looks at me like I am crazy.\n",
      "I have tried the \"sit\" command and he just looks at me like I am crazy.\n",
      "I have tried the \"sit\" command and he just looks at me like I am crazy.\n",
      "I have tried the \"sit\" command and he just looks at me like I am crazy.\n",
      "I have tried the \"sit\" command and he just looks at me like I am crazy.\n",
      "I have tried the \"sit\" command and he just looks at me like I am crazy.\n",
      "I have tried the \"sit\" command and he just looks at me like I am crazy.\n",
      "I have tried the \"sit\" command and he just looks at me like I am crazy.\n",
      "I have tried the \"sit\" command and he just looks at me like I am crazy.\n",
      "I have tried the \"sit\" command and he just looks at me like I am crazy.\n",
      "I have tried the \"sit\" command and he just looks at me like I am crazy.\n",
      "I have tried the \"sit\" command and he just looks at me like I am crazy.\n",
      "I have tried the \"sit\" command and he just looks at\n"
     ]
    }
   ],
   "source": [
    "non_instruct_model = Lamini(model_name = \"meta-llama/Llama-2-7b-hf\")\n",
    "non_instruct_output = non_instruct_model.generate(\"Tell me how to train my dog to sit\")\n",
    "\n",
    "import re\n",
    "\n",
    "sentences = re.split(r'(?<=[.!?]) +', non_instruct_output)\n",
    "print(\"\\n\".join(sentences))\n",
    "\n",
    "# print(\"Not instruction-tuned ouptput (Llama 2 Base): \",non_instruct_output)\n"
   ]
  },
  {
   "cell_type": "code",
   "execution_count": 28,
   "id": "94e94b82",
   "metadata": {},
   "outputs": [
    {
     "name": "stdout",
     "output_type": "stream",
     "text": [
      "on command.\n",
      "Training a dog to sit on command is a basic obedience command that can be achieved with patience, consistency, and positive reinforcement.\n",
      "Here's a step-by-step guide on how to train your dog to sit on command:\n",
      "\n",
      "1.\n",
      "Choose a quiet and distraction-free area: Find a quiet area with minimal distractions where your dog can focus on you.\n",
      "2.\n",
      "Have treats ready: Choose your dog's favorite treats and have them ready to use as rewards.\n",
      "3.\n",
      "Stand in front of your dog: Stand in front of your dog and hold a treat close to their nose.\n",
      "4.\n",
      "Move the treat up and back: Slowly move the treat up and back, towards your dog's tail, while saying \"sit\" in a calm and clear voice.\n",
      "5.\n",
      "Dog will sit: As you move the treat, your dog will naturally sit down to follow the treat.\n",
      "The moment their bottom touches the ground, say \"good sit\" and give them the treat.\n",
      "6.\n",
      "Repeat the process: Repeat steps 3-5 several times, so your dog learns to associate the command \"sit\" with the action of sitting.\n",
      "7.\n",
      "Gradually phase out the treats: As your dog becomes more comfortable with the command, start phasing out the treats.\n",
      "Instead, use praise and affection as rewards.\n",
      "8.\n",
      "Practice, practice, practice: Practice the \"sit\" command in different locations, with different distractions, and at different times of the day.\n",
      "This will help your dog understand that the command is universal and applies in all situations.\n",
      "9.\n",
      "Be consistent: Consistency is key when training a dog.\n",
      "Make sure everyone in the household is using the same command and reward system.\n",
      "10.\n",
      "Be patient: Training a dog takes time and patience.\n",
      "Don't get frustrated if your dog doesn't pick up the command immediately.\n",
      "Keep practicing and eventually, your dog will learn.\n",
      "\n",
      "Remember, training a dog is a journey, and it's important to be patient, consistent, and positive.\n",
      "With time and practice, your dog will learn to sit on command and other basic obedience commands.\n"
     ]
    }
   ],
   "source": [
    "instruct_model = Lamini(model_name = \"meta-llama/Llama-2-7b-chat-hf\")\n",
    "instruct_output = instruct_model.generate(\"Tell me how to train my dog to sit\")\n",
    "sentences = re.split(r'(?<=[.!?]) +', instruct_output)\n",
    "print(\"\\n\".join(sentences))"
   ]
  },
  {
   "cell_type": "code",
   "execution_count": 41,
   "id": "5e4c7478",
   "metadata": {},
   "outputs": [],
   "source": [
    "# chatgpt = Lamini(model_name = \"chat-gpt\")\n",
    "# instruct_output_chatgpt = chatgpt.generate(\"Tell me how to train my dog to sit\")\n",
    "# sentences = re.split(r'(?<=[.!?]) +', instruct_output_chatgpt)\n",
    "# print(\"\\n\".join(sentences))\n"
   ]
  },
  {
   "cell_type": "code",
   "execution_count": 42,
   "id": "4acbb21f",
   "metadata": {},
   "outputs": [
    {
     "name": "stderr",
     "output_type": "stream",
     "text": [
      "Xet Storage is enabled for this repo, but the 'hf_xet' package is not installed. Falling back to regular HTTP download. For better performance, install the package with: `pip install huggingface_hub[hf_xet]` or `pip install hf_xet`\n"
     ]
    }
   ],
   "source": [
    "tokenizer = AutoTokenizer.from_pretrained(\"EleutherAI/pythia-70m\")\n",
    "model = AutoModelForCausalLM.from_pretrained(\"EleutherAI/pythia-70m\")"
   ]
  },
  {
   "cell_type": "code",
   "execution_count": 56,
   "id": "c955b560",
   "metadata": {},
   "outputs": [],
   "source": [
    "def inference(text, model, tokenizer, max_input_tokens=1000, max_output_token=100):\n",
    "    #Tokenize\n",
    "    input_ids = tokenizer.encode(\n",
    "        text,\n",
    "        return_tensors = \"pt\",\n",
    "        truncation=True,\n",
    "        max_length = max_input_tokens\n",
    "    )\n",
    "    \n",
    "    #Generate\n",
    "    device = model.device\n",
    "    generated_tokens_with_prompt = model.generate(\n",
    "        input_ids = input_ids.to(device),\n",
    "        max_length=max_output_token\n",
    "    )\n",
    "    \n",
    "    #Decode\n",
    "    generated_text_with_prompt = tokenizer.batch_decode(generated_tokens_with_prompt, skip_special_tokens=True)\n",
    "    \n",
    "    #Strip the prompt\n",
    "    generated_text_answer = generated_text_with_prompt[0][len(text):]\n",
    "    \n",
    "    return generated_text_answer"
   ]
  },
  {
   "cell_type": "code",
   "execution_count": 57,
   "id": "490049ce",
   "metadata": {},
   "outputs": [
    {
     "name": "stdout",
     "output_type": "stream",
     "text": [
      "DatasetDict({\n",
      "    train: Dataset({\n",
      "        features: ['question', 'answer', 'input_ids', 'attention_mask', 'labels'],\n",
      "        num_rows: 1260\n",
      "    })\n",
      "    test: Dataset({\n",
      "        features: ['question', 'answer', 'input_ids', 'attention_mask', 'labels'],\n",
      "        num_rows: 140\n",
      "    })\n",
      "})\n"
     ]
    }
   ],
   "source": [
    "finetuning_dataset_path = \"lamini/lamini_docs\"\n",
    "finetuning_dataset = load_dataset(finetuning_dataset_path)\n",
    "print(finetuning_dataset)"
   ]
  },
  {
   "cell_type": "code",
   "execution_count": 58,
   "id": "5aad619b",
   "metadata": {},
   "outputs": [
    {
     "name": "stderr",
     "output_type": "stream",
     "text": [
      "The attention mask and the pad token id were not set. As a consequence, you may observe unexpected behavior. Please pass your input's `attention_mask` to obtain reliable results.\n",
      "Setting `pad_token_id` to `eos_token_id`:0 for open-end generation.\n",
      "The attention mask is not set and cannot be inferred from input because pad token is same as eos token. As a consequence, you may observe unexpected behavior. Please pass your input's `attention_mask` to obtain reliable results.\n"
     ]
    },
    {
     "name": "stdout",
     "output_type": "stream",
     "text": [
      "{'question': 'Can Lamini generate technical documentation or user manuals for software projects?', 'answer': 'Yes, Lamini can generate technical documentation and user manuals for software projects. It uses natural language generation techniques to create clear and concise documentation that is easy to understand for both technical and non-technical users. This can save developers a significant amount of time and effort in creating documentation, allowing them to focus on other aspects of their projects.', 'input_ids': [5804, 418, 4988, 74, 6635, 7681, 10097, 390, 2608, 11595, 84, 323, 3694, 6493, 32, 4374, 13, 418, 4988, 74, 476, 6635, 7681, 10097, 285, 2608, 11595, 84, 323, 3694, 6493, 15, 733, 4648, 3626, 3448, 5978, 5609, 281, 2794, 2590, 285, 44003, 10097, 326, 310, 3477, 281, 2096, 323, 1097, 7681, 285, 1327, 14, 48746, 4212, 15, 831, 476, 5321, 12259, 247, 1534, 2408, 273, 673, 285, 3434, 275, 6153, 10097, 13, 6941, 731, 281, 2770, 327, 643, 7794, 273, 616, 6493, 15], 'attention_mask': [1, 1, 1, 1, 1, 1, 1, 1, 1, 1, 1, 1, 1, 1, 1, 1, 1, 1, 1, 1, 1, 1, 1, 1, 1, 1, 1, 1, 1, 1, 1, 1, 1, 1, 1, 1, 1, 1, 1, 1, 1, 1, 1, 1, 1, 1, 1, 1, 1, 1, 1, 1, 1, 1, 1, 1, 1, 1, 1, 1, 1, 1, 1, 1, 1, 1, 1, 1, 1, 1, 1, 1, 1, 1, 1, 1, 1, 1, 1, 1, 1, 1, 1, 1], 'labels': [5804, 418, 4988, 74, 6635, 7681, 10097, 390, 2608, 11595, 84, 323, 3694, 6493, 32, 4374, 13, 418, 4988, 74, 476, 6635, 7681, 10097, 285, 2608, 11595, 84, 323, 3694, 6493, 15, 733, 4648, 3626, 3448, 5978, 5609, 281, 2794, 2590, 285, 44003, 10097, 326, 310, 3477, 281, 2096, 323, 1097, 7681, 285, 1327, 14, 48746, 4212, 15, 831, 476, 5321, 12259, 247, 1534, 2408, 273, 673, 285, 3434, 275, 6153, 10097, 13, 6941, 731, 281, 2770, 327, 643, 7794, 273, 616, 6493, 15]}\n",
      "\n",
      "\n",
      "I have a question about the following:\n",
      "\n",
      "How do I get the correct documentation to work?\n",
      "\n",
      "A:\n",
      "\n",
      "I think you need to use the following code:\n",
      "\n",
      "A:\n",
      "\n",
      "You can use the following code to get the correct documentation.\n",
      "\n",
      "A:\n",
      "\n",
      "You can use the following code to get the correct documentation.\n",
      "\n",
      "A:\n",
      "\n",
      "You can use the following\n"
     ]
    }
   ],
   "source": [
    "test_sample = finetuning_dataset[\"test\"][0]\n",
    "print(test_sample)\n",
    "\n",
    "print(inference(test_sample[\"question\"], model, tokenizer))"
   ]
  },
  {
   "cell_type": "markdown",
   "id": "4d42f37f",
   "metadata": {},
   "source": [
    "Here what we have done is downloaded a model, and dataset and given 1st question in dataset to the notfinetuned model, to see how it \n",
    "\n",
    "performs, we can see the nonfinetune model does not performs well, it had learned english word like documents but answer is way off \n",
    "\n",
    "what we expected.It had understood its a question answer. \n",
    "\n",
    "We can see it doen't understand dataset in terms of knowledge and also doesn't understand what we are expecting form"
   ]
  },
  {
   "cell_type": "markdown",
   "id": "403ea8a5",
   "metadata": {},
   "source": [
    "Lets compare with already finetuned model"
   ]
  },
  {
   "cell_type": "code",
   "execution_count": 60,
   "id": "d478bf22",
   "metadata": {},
   "outputs": [],
   "source": [
    "instruction_model = AutoModelForCausalLM.from_pretrained(\"lamini/lamini_docs_finetuned\")"
   ]
  },
  {
   "cell_type": "code",
   "execution_count": 61,
   "id": "40df1631",
   "metadata": {},
   "outputs": [
    {
     "name": "stderr",
     "output_type": "stream",
     "text": [
      "The attention mask and the pad token id were not set. As a consequence, you may observe unexpected behavior. Please pass your input's `attention_mask` to obtain reliable results.\n",
      "Setting `pad_token_id` to `eos_token_id`:0 for open-end generation.\n"
     ]
    },
    {
     "name": "stdout",
     "output_type": "stream",
     "text": [
      "Yes, Lamini can generate technical documentation or user manuals for software projects. This can be achieved by providing a prompt for a specific technical question or question to the LLM Engine, or by providing a prompt for a specific technical question or question. Additionally, Lamini can be trained on specific technical questions or questions to help users understand the process and provide feedback to the LLM Engine. Additionally, Lamini\n"
     ]
    }
   ],
   "source": [
    "print(inference(test_sample[\"question\"],instruction_model, tokenizer))"
   ]
  },
  {
   "cell_type": "code",
   "execution_count": null,
   "id": "f24f4019",
   "metadata": {},
   "outputs": [],
   "source": []
  }
 ],
 "metadata": {
  "kernelspec": {
   "display_name": "enve",
   "language": "python",
   "name": "python3"
  },
  "language_info": {
   "codemirror_mode": {
    "name": "ipython",
    "version": 3
   },
   "file_extension": ".py",
   "mimetype": "text/x-python",
   "name": "python",
   "nbconvert_exporter": "python",
   "pygments_lexer": "ipython3",
   "version": "3.10.17"
  }
 },
 "nbformat": 4,
 "nbformat_minor": 5
}
